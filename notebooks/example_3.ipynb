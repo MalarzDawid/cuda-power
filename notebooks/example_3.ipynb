{
 "cells": [
  {
   "cell_type": "markdown",
   "metadata": {},
   "source": [
    "# Image Blur"
   ]
  },
  {
   "cell_type": "code",
   "execution_count": 1,
   "metadata": {},
   "outputs": [],
   "source": [
    "from pathlib import Path\n",
    "\n",
    "import torch\n",
    "from torch.utils.cpp_extension import load_inline"
   ]
  },
  {
   "cell_type": "code",
   "execution_count": 2,
   "metadata": {},
   "outputs": [],
   "source": [
    "# constans\n",
    "SIZE = 1000\n",
    "KERNEL_DIR = Path(\"../kernels\")\n",
    "DATA_DIR = Path(\"../data\")\n",
    "IMAGE_PATH = DATA_DIR / \"puppy.png\""
   ]
  },
  {
   "cell_type": "code",
   "execution_count": 3,
   "metadata": {},
   "outputs": [],
   "source": [
    "# utils\n",
    "\n",
    "def compile_ext(cuda_source: str, cpp_headers: str, ext_name: str, func: list):\n",
    "    cuda_source = Path(cuda_source).read_text()\n",
    "\n",
    "    ext = load_inline(\n",
    "        name=ext_name,\n",
    "        cpp_sources=cpp_headers,\n",
    "        cuda_sources=cuda_source,\n",
    "        functions=func,\n",
    "        with_cuda=True,\n",
    "        extra_cuda_cflags=[\"-O2\"],\n",
    "    )\n",
    "    return ext\n",
    "\n",
    "\n",
    "def tensor_details(tensor: torch.Tensor, name: str, head: int = 10):\n",
    "    print(\"*\" * 50)\n",
    "    print(f\"Tensor {name}\")\n",
    "    print(f\"\\t Shape: {tensor.shape}\")\n",
    "    print(f\"\\t Dtype: {tensor.dtype}\")\n",
    "    print(f\"\\t Device: {tensor.device}\")\n",
    "    print(f\"Sample:\\n {tensor[:head]}\\n\")"
   ]
  },
  {
   "cell_type": "code",
   "execution_count": 4,
   "metadata": {},
   "outputs": [],
   "source": [
    "# Read images\n",
    "from torchvision import io"
   ]
  },
  {
   "cell_type": "code",
   "execution_count": 5,
   "metadata": {},
   "outputs": [],
   "source": [
    "image = io.read_image(str(IMAGE_PATH))"
   ]
  },
  {
   "cell_type": "code",
   "execution_count": 6,
   "metadata": {},
   "outputs": [
    {
     "name": "stdout",
     "output_type": "stream",
     "text": [
      "**************************************************\n",
      "Tensor image\n",
      "\t Shape: torch.Size([3, 1536, 2048])\n",
      "\t Dtype: torch.uint8\n",
      "\t Device: cpu\n",
      "Sample:\n",
      " tensor([[[91, 91, 91,  ..., 92, 94, 95],\n",
      "         [91, 91, 90,  ..., 92, 94, 95],\n",
      "         [90, 90, 90,  ..., 93, 95, 95],\n",
      "         ...,\n",
      "         [82, 73, 46,  ..., 26, 27, 26],\n",
      "         [88, 83, 55,  ..., 23, 23, 20],\n",
      "         [65, 68, 48,  ..., 18, 20, 21]]], dtype=torch.uint8)\n",
      "\n"
     ]
    }
   ],
   "source": [
    "tensor_details(image, \"image\", 1)"
   ]
  },
  {
   "cell_type": "code",
   "execution_count": 8,
   "metadata": {},
   "outputs": [],
   "source": [
    "cuda_source = KERNEL_DIR / \"image_blur.cu\"\n",
    "cpp_source = \"torch::Tensor blur(torch::Tensor input, int step);\""
   ]
  },
  {
   "cell_type": "code",
   "execution_count": 9,
   "metadata": {},
   "outputs": [],
   "source": [
    "# Compile extension\n",
    "ext = compile_ext(cuda_source, cpp_source, \"blur\", [\"blur\"])"
   ]
  },
  {
   "cell_type": "code",
   "execution_count": 10,
   "metadata": {},
   "outputs": [],
   "source": [
    "image = image.contiguous().cuda()"
   ]
  },
  {
   "cell_type": "code",
   "execution_count": 11,
   "metadata": {},
   "outputs": [],
   "source": [
    "output = ext.blur(image, 10)"
   ]
  },
  {
   "cell_type": "code",
   "execution_count": 12,
   "metadata": {},
   "outputs": [
    {
     "name": "stdout",
     "output_type": "stream",
     "text": [
      "**************************************************\n",
      "Tensor Output\n",
      "\t Shape: torch.Size([3, 1536, 2048])\n",
      "\t Dtype: torch.uint8\n",
      "\t Device: cuda:0\n",
      "Sample:\n",
      " tensor([[[90, 90, 90,  ..., 84, 86, 88],\n",
      "         [90, 90, 90,  ..., 84, 87, 89],\n",
      "         [90, 90, 90,  ..., 85, 87, 89],\n",
      "         ...,\n",
      "         [52, 54, 54,  ..., 30, 31, 31],\n",
      "         [51, 53, 54,  ..., 29, 30, 30],\n",
      "         [51, 52, 53,  ..., 29, 29, 30]]], device='cuda:0', dtype=torch.uint8)\n",
      "\n"
     ]
    }
   ],
   "source": [
    "tensor_details(output, \"Output\", 1)"
   ]
  },
  {
   "cell_type": "code",
   "execution_count": 13,
   "metadata": {},
   "outputs": [
    {
     "data": {
      "text/plain": [
       "True"
      ]
     },
     "execution_count": 13,
     "metadata": {},
     "output_type": "execute_result"
    }
   ],
   "source": [
    "import cv2\n",
    "cv2.imwrite(str(DATA_DIR / \"puppy_blur.png\"), output.permute(1, 2, 0).cpu().numpy()[..., ::-1])"
   ]
  }
 ],
 "metadata": {
  "kernelspec": {
   "display_name": "env",
   "language": "python",
   "name": "python3"
  },
  "language_info": {
   "codemirror_mode": {
    "name": "ipython",
    "version": 3
   },
   "file_extension": ".py",
   "mimetype": "text/x-python",
   "name": "python",
   "nbconvert_exporter": "python",
   "pygments_lexer": "ipython3",
   "version": "3.10.12"
  }
 },
 "nbformat": 4,
 "nbformat_minor": 2
}
