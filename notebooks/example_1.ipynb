{
 "cells": [
  {
   "cell_type": "code",
   "execution_count": 1,
   "metadata": {},
   "outputs": [],
   "source": [
    "from pathlib import Path\n",
    "\n",
    "import torch\n",
    "from torch.utils.cpp_extension import load_inline"
   ]
  },
  {
   "cell_type": "code",
   "execution_count": 8,
   "metadata": {},
   "outputs": [],
   "source": [
    "# constans\n",
    "SIZE = 1000\n",
    "KERNEL_DIR = Path(\"../kernels\")"
   ]
  },
  {
   "cell_type": "code",
   "execution_count": 4,
   "metadata": {},
   "outputs": [],
   "source": [
    "# utils\n",
    "\n",
    "def compile_ext(cuda_source: str, cpp_headers: str, ext_name: str, func: list):\n",
    "    cuda_source = Path(cuda_source).read_text()\n",
    "\n",
    "    ext = load_inline(\n",
    "        name=ext_name,\n",
    "        cpp_sources=cpp_headers,\n",
    "        cuda_sources=cuda_source,\n",
    "        functions=func,\n",
    "        with_cuda=True,\n",
    "        extra_cuda_cflags=[\"-O2\"],\n",
    "    )\n",
    "    return ext\n",
    "\n",
    "\n",
    "def tensor_details(tensor: torch.Tensor, name: str, head: int = 10):\n",
    "    print(\"*\" * 50)\n",
    "    print(f\"Tensor {name}\")\n",
    "    print(f\"\\t Shape: {tensor.shape}\")\n",
    "    print(f\"\\t Dtype: {tensor.dtype}\")\n",
    "    print(f\"\\t Device: {tensor.device}\")\n",
    "    print(f\"Sample:\\n {tensor[:head]}\\n\")"
   ]
  },
  {
   "cell_type": "markdown",
   "metadata": {},
   "source": [
    "### Main "
   ]
  },
  {
   "cell_type": "code",
   "execution_count": 6,
   "metadata": {},
   "outputs": [],
   "source": [
    "# create input data\n",
    "v_a = torch.arange(0, SIZE, dtype=torch.float32, device=\"cuda\")\n",
    "v_b = torch.arange(0, SIZE, dtype=torch.float32, device=\"cuda\")"
   ]
  },
  {
   "cell_type": "code",
   "execution_count": 7,
   "metadata": {},
   "outputs": [
    {
     "name": "stdout",
     "output_type": "stream",
     "text": [
      "**************************************************\n",
      "Tensor A\n",
      "\t Shape: torch.Size([1000])\n",
      "\t Dtype: torch.float32\n",
      "\t Device: cuda:0\n",
      "Sample:\n",
      " tensor([0., 1., 2., 3., 4., 5., 6., 7., 8., 9.], device='cuda:0')\n",
      "\n",
      "**************************************************\n",
      "Tensor B\n",
      "\t Shape: torch.Size([1000])\n",
      "\t Dtype: torch.float32\n",
      "\t Device: cuda:0\n",
      "Sample:\n",
      " tensor([0., 1., 2., 3., 4., 5., 6., 7., 8., 9.], device='cuda:0')\n",
      "\n"
     ]
    }
   ],
   "source": [
    "# Print details\n",
    "tensor_details(v_a, \"A\")\n",
    "tensor_details(v_b, \"B\")"
   ]
  },
  {
   "cell_type": "code",
   "execution_count": 9,
   "metadata": {},
   "outputs": [],
   "source": [
    "# Seu up cuda & cpp source\n",
    "\n",
    "cuda_source = KERNEL_DIR / \"vec_addition.cu\"\n",
    "cpp_source = \"torch::Tensor vector_addition(torch::Tensor vec_a, torch::Tensor vec_b);\""
   ]
  },
  {
   "cell_type": "code",
   "execution_count": 10,
   "metadata": {},
   "outputs": [],
   "source": [
    "# Compile extension\n",
    "ext = compile_ext(cuda_source, cpp_source, \"vector_ext\", [\"vector_addition\"])"
   ]
  },
  {
   "cell_type": "code",
   "execution_count": 11,
   "metadata": {},
   "outputs": [],
   "source": [
    "# Use extension\n",
    "output = ext.vector_addition(v_a, v_b)"
   ]
  },
  {
   "cell_type": "code",
   "execution_count": 12,
   "metadata": {},
   "outputs": [
    {
     "name": "stdout",
     "output_type": "stream",
     "text": [
      "**************************************************\n",
      "Tensor Output\n",
      "\t Shape: torch.Size([1000])\n",
      "\t Dtype: torch.float32\n",
      "\t Device: cuda:0\n",
      "Sample:\n",
      " tensor([ 0.,  2.,  4.,  6.,  8., 10., 12., 14., 16., 18.], device='cuda:0')\n",
      "\n"
     ]
    }
   ],
   "source": [
    "tensor_details(output, \"Output\")"
   ]
  }
 ],
 "metadata": {
  "kernelspec": {
   "display_name": "env",
   "language": "python",
   "name": "python3"
  },
  "language_info": {
   "codemirror_mode": {
    "name": "ipython",
    "version": 3
   },
   "file_extension": ".py",
   "mimetype": "text/x-python",
   "name": "python",
   "nbconvert_exporter": "python",
   "pygments_lexer": "ipython3",
   "version": "3.10.12"
  }
 },
 "nbformat": 4,
 "nbformat_minor": 2
}
