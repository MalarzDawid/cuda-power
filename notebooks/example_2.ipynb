{
 "cells": [
  {
   "cell_type": "markdown",
   "metadata": {},
   "source": [
    "# Grayscale Image"
   ]
  },
  {
   "cell_type": "code",
   "execution_count": 43,
   "metadata": {},
   "outputs": [],
   "source": [
    "from pathlib import Path\n",
    "\n",
    "import cv2\n",
    "import torch\n",
    "from torch.utils.cpp_extension import load_inline"
   ]
  },
  {
   "cell_type": "code",
   "execution_count": 6,
   "metadata": {},
   "outputs": [],
   "source": [
    "# constans\n",
    "SIZE = 1000\n",
    "KERNEL_DIR = Path(\"../kernels\")\n",
    "DATA_DIR = Path(\"../data\")\n",
    "IMAGE_PATH = DATA_DIR / \"puppy.png\""
   ]
  },
  {
   "cell_type": "code",
   "execution_count": 10,
   "metadata": {},
   "outputs": [],
   "source": [
    "# utils\n",
    "\n",
    "def compile_ext(cuda_source: str, cpp_headers: str, ext_name: str, func: list):\n",
    "    cuda_source = Path(cuda_source).read_text()\n",
    "\n",
    "    ext = load_inline(\n",
    "        name=ext_name,\n",
    "        cpp_sources=cpp_headers,\n",
    "        cuda_sources=cuda_source,\n",
    "        functions=func,\n",
    "        with_cuda=True,\n",
    "        extra_cuda_cflags=[\"-O2\"],\n",
    "    )\n",
    "    return ext\n",
    "\n",
    "\n",
    "def tensor_details(tensor: torch.Tensor, name: str, head: int = 10):\n",
    "    print(\"*\" * 50)\n",
    "    print(f\"Tensor {name}\")\n",
    "    print(f\"\\t Shape: {tensor.shape}\")\n",
    "    print(f\"\\t Dtype: {tensor.dtype}\")\n",
    "    print(f\"\\t Device: {tensor.device}\")\n",
    "    print(f\"Sample:\\n {tensor[:head]}\\n\")"
   ]
  },
  {
   "cell_type": "code",
   "execution_count": 11,
   "metadata": {},
   "outputs": [],
   "source": [
    "# Read images\n",
    "from torchvision import io"
   ]
  },
  {
   "cell_type": "code",
   "execution_count": 12,
   "metadata": {},
   "outputs": [],
   "source": [
    "image = io.read_image(str(IMAGE_PATH))"
   ]
  },
  {
   "cell_type": "code",
   "execution_count": 14,
   "metadata": {},
   "outputs": [
    {
     "name": "stdout",
     "output_type": "stream",
     "text": [
      "**************************************************\n",
      "Tensor image\n",
      "\t Shape: torch.Size([3, 1536, 2048])\n",
      "\t Dtype: torch.uint8\n",
      "\t Device: cpu\n",
      "Sample:\n",
      " tensor([[[91, 91, 91,  ..., 92, 94, 95],\n",
      "         [91, 91, 90,  ..., 92, 94, 95],\n",
      "         [90, 90, 90,  ..., 93, 95, 95],\n",
      "         ...,\n",
      "         [82, 73, 46,  ..., 26, 27, 26],\n",
      "         [88, 83, 55,  ..., 23, 23, 20],\n",
      "         [65, 68, 48,  ..., 18, 20, 21]]], dtype=torch.uint8)\n",
      "\n"
     ]
    }
   ],
   "source": [
    "tensor_details(image, \"image\", 1)"
   ]
  },
  {
   "cell_type": "code",
   "execution_count": 30,
   "metadata": {},
   "outputs": [],
   "source": [
    "cuda_source = KERNEL_DIR / \"rgb_to_grayscale.cu\"\n",
    "cpp_source = \"torch::Tensor rgb_to_grayscale(torch::Tensor input);\""
   ]
  },
  {
   "cell_type": "code",
   "execution_count": 31,
   "metadata": {},
   "outputs": [],
   "source": [
    "# Compile extension\n",
    "ext = compile_ext(cuda_source, cpp_source, \"rgb_to_grayscale\", [\"rgb_to_grayscale\"])"
   ]
  },
  {
   "cell_type": "code",
   "execution_count": 32,
   "metadata": {},
   "outputs": [],
   "source": [
    "image = image.contiguous().cuda()"
   ]
  },
  {
   "cell_type": "code",
   "execution_count": 33,
   "metadata": {},
   "outputs": [],
   "source": [
    "output = ext.rgb_to_grayscale(image)"
   ]
  },
  {
   "cell_type": "code",
   "execution_count": 44,
   "metadata": {},
   "outputs": [
    {
     "name": "stdout",
     "output_type": "stream",
     "text": [
      "**************************************************\n",
      "Tensor Output\n",
      "\t Shape: torch.Size([1536, 2048])\n",
      "\t Dtype: torch.uint8\n",
      "\t Device: cuda:0\n",
      "Sample:\n",
      " tensor([[86, 86, 86,  ..., 94, 96, 97]], device='cuda:0', dtype=torch.uint8)\n",
      "\n"
     ]
    }
   ],
   "source": [
    "tensor_details(output, \"Output\", 1)"
   ]
  },
  {
   "cell_type": "code",
   "execution_count": 42,
   "metadata": {},
   "outputs": [
    {
     "data": {
      "text/plain": [
       "True"
      ]
     },
     "execution_count": 42,
     "metadata": {},
     "output_type": "execute_result"
    }
   ],
   "source": [
    "cv2.imwrite(str(DATA_DIR / \"uppy_gray.png\"), output.cpu().numpy())"
   ]
  }
 ],
 "metadata": {
  "kernelspec": {
   "display_name": "env",
   "language": "python",
   "name": "python3"
  },
  "language_info": {
   "codemirror_mode": {
    "name": "ipython",
    "version": 3
   },
   "file_extension": ".py",
   "mimetype": "text/x-python",
   "name": "python",
   "nbconvert_exporter": "python",
   "pygments_lexer": "ipython3",
   "version": "3.10.12"
  }
 },
 "nbformat": 4,
 "nbformat_minor": 2
}
